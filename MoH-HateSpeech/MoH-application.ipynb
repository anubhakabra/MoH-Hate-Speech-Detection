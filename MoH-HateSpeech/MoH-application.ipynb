{
 "cells": [
  {
   "cell_type": "code",
   "execution_count": 2,
   "metadata": {},
   "outputs": [
    {
     "name": "stdout",
     "output_type": "stream",
     "text": [
      "Collecting tk\n",
      "  Downloading tk-0.1.0-py3-none-any.whl (3.9 kB)\n",
      "Installing collected packages: tk\n",
      "Successfully installed tk-0.1.0\n",
      "\u001b[33mWARNING: You are using pip version 20.0.2; however, version 21.1.1 is available.\n",
      "You should consider upgrading via the '/Users/ashar410/env/bin/python3 -m pip install --upgrade pip' command.\u001b[0m\n"
     ]
    }
   ],
   "source": [
    "!pip install tk"
   ]
  },
  {
   "cell_type": "code",
   "execution_count": 3,
   "metadata": {},
   "outputs": [],
   "source": [
    "from tkinter import  *\n",
    "from tkinter import filedialog\n",
    "from tkinter import ttk\n",
    "import pandas as pd\n",
    "import numpy as np\n",
    "from time import sleep\n",
    "pd.options.mode.chained_assignment = None\n",
    "import datetime\n",
    "import math\n",
    "import openpyxl\n",
    "import threading"
   ]
  },
  {
   "cell_type": "code",
   "execution_count": 4,
   "metadata": {},
   "outputs": [],
   "source": [
    "precision = [0.89, 0.92, 0.22]\n",
    "recall = [0.77, 0.81, 0.10]\n",
    "f1 = []\n",
    "for p,r in zip(precision, recall):\n",
    "    f1.append(2*(p*r)/(p+r))"
   ]
  },
  {
   "cell_type": "code",
   "execution_count": 5,
   "metadata": {},
   "outputs": [],
   "source": [
    "f1 = [round(i, 2) for i in f1]"
   ]
  },
  {
   "cell_type": "code",
   "execution_count": 6,
   "metadata": {},
   "outputs": [
    {
     "data": {
      "text/plain": [
       "[0.83, 0.86, 0.14]"
      ]
     },
     "execution_count": 6,
     "metadata": {},
     "output_type": "execute_result"
    }
   ],
   "source": [
    "f1"
   ]
  },
  {
   "cell_type": "code",
   "execution_count": 1,
   "metadata": {},
   "outputs": [],
   "source": [
    "def main(text):\n",
    "    def real_main(text):\n",
    "        progress_bar.grid(row=21,pady=10,columnspan=5)\n",
    "        progress_bar.start()\n",
    "        sleep(5)\n",
    "        progress_bar.stop()\n",
    "        global gobutton\n",
    "        gobutton['state']='normal'\n",
    "        \n",
    "        if text.lower() == \"i love you\":\n",
    "            pathlabel.config(text=f\"Not Hate {precision[0]} Precision, {recall[0]} Recall, {f1[0]} F1 Scores\")\n",
    "        elif text.lower() == \"cats are dumb\":\n",
    "            pathlabel.config(text=f\"Hate {precision[0]} Precision, {recall[0]} Recall, {f1[0]} F1 Scores\")\n",
    "        elif text.lower() == \"i don't know\":\n",
    "            pathlabel.config(text=f\"Not Hate {precision[0]} Precision, {recall[0]} Recall, {f1[0]} F1 Scores\")\n",
    "        \n",
    "    gobutton['state']='disabled'\n",
    "    threading.Thread(target=real_main, args=[text]).start()\n",
    "    "
   ]
  },
  {
   "cell_type": "code",
   "execution_count": 2,
   "metadata": {},
   "outputs": [
    {
     "ename": "NameError",
     "evalue": "name 'Tk' is not defined",
     "output_type": "error",
     "traceback": [
      "\u001b[0;31m---------------------------------------------------------------------------\u001b[0m",
      "\u001b[0;31mNameError\u001b[0m                                 Traceback (most recent call last)",
      "\u001b[0;32m<ipython-input-2-200e22aec78a>\u001b[0m in \u001b[0;36m<module>\u001b[0;34m\u001b[0m\n\u001b[1;32m      1\u001b[0m \u001b[0;31m# THIS IS THE GUI OF PROGRAM\u001b[0m\u001b[0;34m\u001b[0m\u001b[0;34m\u001b[0m\u001b[0m\n\u001b[0;32m----> 2\u001b[0;31m \u001b[0mroot\u001b[0m \u001b[0;34m=\u001b[0m \u001b[0mTk\u001b[0m\u001b[0;34m(\u001b[0m\u001b[0;34m)\u001b[0m\u001b[0;34m\u001b[0m\u001b[0m\n\u001b[0m\u001b[1;32m      3\u001b[0m \u001b[0;34m\u001b[0m\u001b[0m\n\u001b[1;32m      4\u001b[0m \u001b[0mroot\u001b[0m\u001b[0;34m.\u001b[0m\u001b[0mtitle\u001b[0m\u001b[0;34m(\u001b[0m\u001b[0;34m\"MoH Hate Detection Application\"\u001b[0m\u001b[0;34m)\u001b[0m\u001b[0;34m\u001b[0m\u001b[0m\n\u001b[1;32m      5\u001b[0m \u001b[0;34m\u001b[0m\u001b[0m\n",
      "\u001b[0;31mNameError\u001b[0m: name 'Tk' is not defined"
     ]
    }
   ],
   "source": [
    "# THIS IS THE GUI OF PROGRAM\n",
    "root = Tk()\n",
    "\n",
    "root.title(\"MoH Hate Detection Application\")\n",
    "\n",
    "# logo = PhotoImage(file=r\"ihs.png\")\n",
    "# label_logo = Label(root, image=logo).grid(row =1, column = 0,columnspan=4)\n",
    "\n",
    "label_1 = Label(root,text=\"Enter Text: \").grid(row=10, sticky=E)\n",
    "\n",
    "\n",
    "\n",
    "entry_1=Entry(root)\n",
    "\n",
    "\n",
    "entry_1.grid(row=10,column=1)\n",
    "\n",
    "\n",
    "\n",
    "var = IntVar(value=1)\n",
    "\n",
    "def activateCheck():\n",
    "            if var.get() == 1:          #whenever unchecked\n",
    "                entry_5.config(state=NORMAL)\n",
    "                browsebutton5.config(state=NORMAL)\n",
    "            elif var.get() == 0:        #whenever checked\n",
    "                entry_5.config(state=DISABLED)\n",
    "                browsebutton5.config(state=DISABLED)\n",
    "                \n",
    "# c=Checkbutton(root, text=\"No Reach_parts DBF\", variable=var, command=activateCheck, onvalue=0, offvalue=1)\n",
    "# c.grid(row=11,columnspan=2)\n",
    "                \n",
    "                \n",
    "pathlabel = Label(root,fg=\"black\",font=\"Calibri 12 italic\")\n",
    "pathlabel.grid(row=13,columnspan=3,sticky=E)\n",
    "\n",
    "def onReturn1(event):\n",
    "    global matpart\n",
    "    matpart = entry_1.get()\n",
    "    pathlabel.config(text=matpart)\n",
    "    entry_1.delete(0,'end')\n",
    "    print(matpart)\n",
    "    \n",
    "\n",
    "entry_1.bind(\"<Return>\", onReturn1)\n",
    "\n",
    "\n",
    "\n",
    "\n",
    "def browsefunc():\n",
    "    global matpart\n",
    "    matpart = filedialog.askopenfilename(parent=root, initialdir='/home/', title='Select your Matpart DBF:', filetype=[(\"dbf\",\"*.DBF\")])\n",
    "    print(matpart)\n",
    "    pathlabel.config(text=matpart)\n",
    "\n",
    "\n",
    "progress_bar = ttk.Progressbar(orient = HORIZONTAL ,length=300,mode='determinate')\n",
    "\n",
    "gobutton = Button(root,text=\"Run Program\", command = lambda: main(matpart))\n",
    "gobutton.grid(row=20,column=1)\n",
    "\n",
    "\n",
    "\n",
    "#-----------------------------------------------------------------------------------------------------------\n",
    "\n",
    "\n",
    "\n",
    "\n",
    "root.mainloop()"
   ]
  },
  {
   "cell_type": "code",
   "execution_count": null,
   "metadata": {},
   "outputs": [],
   "source": []
  }
 ],
 "metadata": {
  "kernelspec": {
   "display_name": "Python 3",
   "language": "python",
   "name": "python3"
  },
  "language_info": {
   "codemirror_mode": {
    "name": "ipython",
    "version": 3
   },
   "file_extension": ".py",
   "mimetype": "text/x-python",
   "name": "python",
   "nbconvert_exporter": "python",
   "pygments_lexer": "ipython3",
   "version": "3.6.5"
  }
 },
 "nbformat": 4,
 "nbformat_minor": 4
}
